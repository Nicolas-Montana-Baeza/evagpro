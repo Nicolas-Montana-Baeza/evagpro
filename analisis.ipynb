{
 "cells": [
  {
   "cell_type": "code",
   "execution_count": 10,
   "metadata": {},
   "outputs": [],
   "source": [
    "import pandas as pd\n",
    "import numpy as np\n",
    "import matplotlib.pyplot as plt\n",
    "import seaborn as sns\n",
    "import os"
   ]
  },
  {
   "cell_type": "code",
   "execution_count": 11,
   "metadata": {},
   "outputs": [],
   "source": [
    "#Make a list with the files in the folder\n",
    "files = os.listdir('./Datos')\n",
    "#make a list with the excels and csv files\n",
    "files_xls = [f for f in files if f[-4:] == 'xlsx']\n",
    "files_csv = [f for f in files if f[-3:] == 'csv']"
   ]
  },
  {
   "cell_type": "code",
   "execution_count": 30,
   "metadata": {},
   "outputs": [
    {
     "data": {
      "text/plain": [
       "(Index(['tipooroldeclarante', 'razon social', 'nombre establecimiento',\n",
       "        'idestablecimientovu', 'rubro', 'ciiu4', 'region', 'provincia',\n",
       "        'comuna', 'latitud', 'longitud', 'capituloler', 'subcapituloler',\n",
       "        'nombreler', 'cantidadtoneladas', 'ano', 'razonsocialdestinatario',\n",
       "        'nombreestablecimientodestinatario', 'tipodetratamiento',\n",
       "        'regiondestinatario', 'provinciadestinatario', 'comunadestinatario',\n",
       "        'nombreestablecimiento', 'razonsocial', 'rutrazonsocial', 'rubroretc',\n",
       "        'ciiu6', 'huso', 'coordenadaeste', 'coordenadanorte', 'numerocapitulo',\n",
       "        'numerosubcapitulo', 'numeroler', 'tratamiento',\n",
       "        'valorizacioneliminacion', 'declaracionestimacion',\n",
       "        'idestablecimientovudestinatario', 'rutrazonsocialtrazabilidad',\n",
       "        'nombredeestablecimientodestinatario', 'codigovuestablecimiento',\n",
       "        'nombreesblecimiento', 'ciiu6id', 'ciiu4id', 'utmn', 'utme',\n",
       "        'codigosubdere', 'entradasalida', 'tratamientoid',\n",
       "        'eliminacionvalorizacionrecoleccion', 'numerocapituloler',\n",
       "        'numerosubcapituloler', 'retccodetrazabilidad', 'nombretrazabilidad',\n",
       "        'razonsocialtrazabilidad', 'comunatrazabilidad', 'regiontrazabilidad'],\n",
       "       dtype='object'),\n",
       " (7131, 56))"
      ]
     },
     "execution_count": 30,
     "metadata": {},
     "output_type": "execute_result"
    }
   ],
   "source": [
    "#read the excels and csv files and put them in a dataframe\n",
    "data = []\n",
    "#region, año, Cantidad (Toneladas)\n",
    "dic = {' ':'', '_':'', '/':'', '(':'', ')':'', 'á':'a', 'é':'e', 'í':'i', 'ó':'o', 'ú':'u', 'ñ':'n', ' ':''}\n",
    "#function to replace the characters in the columns names\n",
    "def replace(text, dic):\n",
    "    for i, j in dic.items():\n",
    "        text = text.replace(i, j)\n",
    "    return text\n",
    "\n",
    "\n",
    "for f in files_xls:\n",
    "    temp = pd.read_excel('./Datos/'+f)\n",
    "    for i in range(len(temp.columns)):\n",
    "        temp.rename(columns={temp.columns[i]: replace(temp.columns[i],dic=dic).lower()}, inplace=True)\n",
    "    data.append(temp)\n",
    "\n",
    "#concatenate the dataframes\n",
    "df = pd.concat(data, ignore_index=True)\n",
    "\n",
    "df.columns, df.shape\n",
    "\n"
   ]
  },
  {
   "cell_type": "code",
   "execution_count": 39,
   "metadata": {},
   "outputs": [
    {
     "name": "stdout",
     "output_type": "stream",
     "text": [
      "0\n",
      "[2016]\n",
      "1\n",
      "[2019.   nan]\n",
      "2\n",
      "[2017]\n",
      "3\n",
      "[2020]\n",
      "4\n",
      "[2015]\n",
      "5\n",
      "[2014]\n",
      "6\n",
      "[2018]\n",
      "7\n",
      "[2021 2022 2023 2024 2025 2026 2027 2028 2029 2030 2031 2032 2033 2034\n",
      " 2035 2036 2037 2038 2039 2040 2041 2042 2043 2044 2045 2046 2047 2048\n",
      " 2049 2050 2051 2052 2053 2054 2055 2056 2057 2058 2059 2060 2061 2062\n",
      " 2063 2064 2065 2066 2067 2068 2069 2070 2071 2072 2073 2074 2075 2076\n",
      " 2077 2078 2079 2080 2081 2082 2083 2084 2085 2086 2087 2088 2089 2090\n",
      " 2091 2092 2093 2094 2095 2096 2097 2098 2099 2100 2101 2102 2103 2104\n",
      " 2105 2106 2107 2108 2109 2110 2111 2112 2113 2114 2115 2116 2117 2118\n",
      " 2119 2120 2121 2122 2123 2124 2125 2126 2127 2128 2129 2130 2131 2132\n",
      " 2133 2134 2135 2136 2137 2138 2139 2140 2141 2142 2143 2144 2145 2146\n",
      " 2147 2148 2149 2150 2151 2152 2153 2154 2155 2156 2157 2158 2159 2160]\n"
     ]
    }
   ],
   "source": [
    "df = df[['comuna', 'capituloler', 'subcapituloler','nombreler', 'cantidadtoneladas', 'ano', 'tipodetratamiento', 'numerocapitulo','numerosubcapitulo', 'numeroler', 'tratamiento','valorizacioneliminacion', 'declaracionestimacion','eliminacionvalorizacionrecoleccion', 'numerocapituloler','numerosubcapituloler']]\n",
    "df.columns,df.shape\n",
    "for i in range(len(data)):\n",
    "    print(i)\n",
    "    print(data[i]['ano'].unique())"
   ]
  },
  {
   "cell_type": "code",
   "execution_count": null,
   "metadata": {},
   "outputs": [
    {
     "data": {
      "text/plain": [
       "array([], dtype=object)"
      ]
     },
     "execution_count": 18,
     "metadata": {},
     "output_type": "execute_result"
    }
   ],
   "source": [
    "#filter results and show only region metropolitana\n",
    "data[data['Región']=='Metropolitana de Santiago']   \n",
    "data['Región'].unique()\n"
   ]
  }
 ],
 "metadata": {
  "kernelspec": {
   "display_name": "Python 3",
   "language": "python",
   "name": "python3"
  },
  "language_info": {
   "codemirror_mode": {
    "name": "ipython",
    "version": 3
   },
   "file_extension": ".py",
   "mimetype": "text/x-python",
   "name": "python",
   "nbconvert_exporter": "python",
   "pygments_lexer": "ipython3",
   "version": "3.10.8"
  },
  "orig_nbformat": 4
 },
 "nbformat": 4,
 "nbformat_minor": 2
}
