{
 "cells": [
  {
   "cell_type": "code",
   "execution_count": 40,
   "metadata": {},
   "outputs": [],
   "source": [
    "import pandas as pd\n",
    "import numpy as np\n",
    "import matplotlib.pyplot as plt\n",
    "import seaborn as sns\n",
    "import os"
   ]
  },
  {
   "cell_type": "code",
   "execution_count": 41,
   "metadata": {},
   "outputs": [],
   "source": [
    "#Make a list with the files in the folder\n",
    "files = os.listdir('./Datos')\n",
    "#make a list with the excels and csv files\n",
    "files_xls = [f for f in files if f[-4:] == 'xlsx']\n",
    "files_csv = [f for f in files if f[-3:] == 'csv']"
   ]
  },
  {
   "cell_type": "code",
   "execution_count": 42,
   "metadata": {},
   "outputs": [
    {
     "data": {
      "text/plain": [
       "(Index(['tipooroldeclarante', 'razon social', 'nombre establecimiento',\n",
       "        'idestablecimientovu', 'rubro', 'ciiu4', 'region', 'provincia',\n",
       "        'comuna', 'latitud', 'longitud', 'capituloler', 'subcapituloler',\n",
       "        'nombreler', 'cantidadtoneladas', 'ano', 'razonsocialdestinatario',\n",
       "        'nombreestablecimientodestinatario', 'tipodetratamiento',\n",
       "        'regiondestinatario', 'provinciadestinatario', 'comunadestinatario',\n",
       "        'nombreestablecimiento', 'razonsocial', 'rutrazonsocial', 'rubroretc',\n",
       "        'ciiu6', 'huso', 'coordenadaeste', 'coordenadanorte', 'numerocapitulo',\n",
       "        'numerosubcapitulo', 'numeroler', 'tratamiento',\n",
       "        'valorizacioneliminacion', 'declaracionestimacion',\n",
       "        'idestablecimientovudestinatario', 'rutrazonsocialtrazabilidad',\n",
       "        'nombredeestablecimientodestinatario', 'codigovuestablecimiento',\n",
       "        'nombreesblecimiento', 'ciiu6id', 'ciiu4id', 'utmn', 'utme',\n",
       "        'codigosubdere', 'entradasalida', 'tratamientoid',\n",
       "        'eliminacionvalorizacionrecoleccion', 'numerocapituloler',\n",
       "        'numerosubcapituloler', 'retccodetrazabilidad', 'nombretrazabilidad',\n",
       "        'razonsocialtrazabilidad', 'comunatrazabilidad', 'regiontrazabilidad'],\n",
       "       dtype='object'),\n",
       " (7131, 56))"
      ]
     },
     "execution_count": 42,
     "metadata": {},
     "output_type": "execute_result"
    }
   ],
   "source": [
    "#read the excels and csv files and put them in a dataframe\n",
    "data = []\n",
    "#region, año, Cantidad (Toneladas)\n",
    "dic = {' ':'', '_':'', '/':'', '(':'', ')':'', 'á':'a', 'é':'e', 'í':'i', 'ó':'o', 'ú':'u', 'ñ':'n', ' ':''}\n",
    "#function to replace the characters in the columns names\n",
    "def replace(text, dic):\n",
    "    for i, j in dic.items():\n",
    "        text = text.replace(i, j)\n",
    "    return text\n",
    "\n",
    "\n",
    "for f in files_xls:\n",
    "    temp = pd.read_excel('./Datos/'+f)\n",
    "    for i in range(len(temp.columns)):\n",
    "        temp.rename(columns={temp.columns[i]: replace(temp.columns[i],dic=dic).lower()}, inplace=True)\n",
    "    data.append(temp)\n",
    "\n",
    "#concatenate the dataframes\n",
    "df = pd.concat(data, ignore_index=True)\n",
    "\n",
    "df.columns, df.shape\n",
    "\n"
   ]
  },
  {
   "cell_type": "code",
   "execution_count": 43,
   "metadata": {},
   "outputs": [
    {
     "name": "stdout",
     "output_type": "stream",
     "text": [
      "0\n",
      "[2016]\n",
      "1\n",
      "[2019.   nan]\n",
      "2\n",
      "[2017]\n",
      "3\n",
      "[2020]\n",
      "4\n",
      "[2015]\n",
      "5\n",
      "[2014]\n",
      "6\n",
      "[2018]\n",
      "7\n",
      "[2021]\n"
     ]
    }
   ],
   "source": [
    "df = df[['comuna', 'capituloler', 'subcapituloler','nombreler', 'cantidadtoneladas', 'ano', 'tipodetratamiento', 'numerocapitulo','numerosubcapitulo', 'numeroler', 'tratamiento','valorizacioneliminacion', 'declaracionestimacion','eliminacionvalorizacionrecoleccion', 'numerocapituloler','numerosubcapituloler']]\n",
    "df.columns,df.shape\n",
    "for i in range(len(data)):\n",
    "    print(i)\n",
    "    print(data[i]['ano'].unique())"
   ]
  },
  {
   "cell_type": "code",
   "execution_count": 44,
   "metadata": {},
   "outputs": [
    {
     "ename": "TypeError",
     "evalue": "list indices must be integers or slices, not str",
     "output_type": "error",
     "traceback": [
      "\u001b[0;31m---------------------------------------------------------------------------\u001b[0m",
      "\u001b[0;31mTypeError\u001b[0m                                 Traceback (most recent call last)",
      "Cell \u001b[0;32mIn[44], line 2\u001b[0m\n\u001b[1;32m      1\u001b[0m \u001b[39m#filter results and show only region metropolitana\u001b[39;00m\n\u001b[0;32m----> 2\u001b[0m data[data[\u001b[39m'\u001b[39;49m\u001b[39mRegión\u001b[39;49m\u001b[39m'\u001b[39;49m]\u001b[39m==\u001b[39m\u001b[39m'\u001b[39m\u001b[39mMetropolitana de Santiago\u001b[39m\u001b[39m'\u001b[39m]   \n\u001b[1;32m      3\u001b[0m data[\u001b[39m'\u001b[39m\u001b[39mRegión\u001b[39m\u001b[39m'\u001b[39m]\u001b[39m.\u001b[39munique()\n",
      "\u001b[0;31mTypeError\u001b[0m: list indices must be integers or slices, not str"
     ]
    }
   ],
   "source": [
    "#filter results and show only region metropolitana\n",
    "data[data['Región']=='Metropolitana de Santiago']   \n",
    "data['Región'].unique()\n"
   ]
  }
 ],
 "metadata": {
  "kernelspec": {
   "display_name": "Python 3",
   "language": "python",
   "name": "python3"
  },
  "language_info": {
   "codemirror_mode": {
    "name": "ipython",
    "version": 3
   },
   "file_extension": ".py",
   "mimetype": "text/x-python",
   "name": "python",
   "nbconvert_exporter": "python",
   "pygments_lexer": "ipython3",
   "version": "3.10.8"
  },
  "orig_nbformat": 4
 },
 "nbformat": 4,
 "nbformat_minor": 2
}
